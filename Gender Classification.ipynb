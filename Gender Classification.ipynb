{
 "cells": [
  {
   "cell_type": "code",
   "execution_count": 4,
   "metadata": {},
   "outputs": [],
   "source": [
    "# Importing Libraries \n",
    "import numpy as np\n",
    "from sklearn.linear_model import LogisticRegression\n",
    "from sklearn.neighbors import KNeighborsClassifier\n",
    "from sklearn.svm import SVC\n",
    "from sklearn.metrics import accuracy_score\n",
    "from sklearn.tree import DecisionTreeClassifier"
   ]
  },
  {
   "cell_type": "code",
   "execution_count": 11,
   "metadata": {},
   "outputs": [
    {
     "name": "stdout",
     "output_type": "stream",
     "text": [
      "Accuracy for DecisionTree: 100.0\n",
      "Best gender classification model is : Decision Tree with accuracy of 100.0\n"
     ]
    }
   ],
   "source": [
    "X = [[181,82,44], [178,76,43], [160,60,37], [165,65,39], [166,66,47], [189,90,47], [175,64,39],\n",
    "     [177, 70, 40], [159, 55, 37], [171, 75, 42], [181, 85, 43]]\n",
    "y = ['male', 'male', 'female', 'female', 'female', 'male', 'male', 'male', 'female', 'male', 'male']\n",
    "\n",
    "# Defining the classifier\n",
    "\n",
    "clf_tree = DecisionTreeClassifier()\n",
    "clf_svm = SVC()\n",
    "clf_logreg = LogisticRegression()\n",
    "clf_KNN = KNeighborsClassifier()\n",
    "\n",
    "\n",
    "# Training the models\n",
    "\n",
    "clf_tree.fit(X, y)\n",
    "clf_svm.fit(X, y)\n",
    "clf_logreg.fit(X, y)\n",
    "clf_KNN.fit(X, y)\n",
    "\n",
    "#Testing the models\n",
    "\n",
    "pred_tree = clf_tree.predict(X)\n",
    "acc_tree = accuracy_score(y, pred_tree) * 100\n",
    "\n",
    "pred_svm = clf_svm.predict(X)\n",
    "acc_svm = accuracy_score(y, pred_svm) * 100\n",
    "\n",
    "pred_logreg = clf_logreg.predict(X)\n",
    "acc_logreg = accuracy_score(y, pred_logreg) * 100\n",
    "\n",
    "pred_knn = clf_KNN.predict(X)\n",
    "acc_knn = accuracy_score(y, pred_knn) * 100\n",
    "\n",
    "# Chossing best classfier \n",
    "\n",
    "index = np.argmax([acc_tree, acc_svm, acc_logreg, acc_knn])\n",
    "classifiers = {0: 'Decision Tree', 1: 'SVM', 2: 'Logistic Regression', 3: 'KNN' }\n",
    "print(\"Best gender classification model is : {} with accuracy of {}\".format(classifiers[index], acc_tree))"
   ]
  },
  {
   "cell_type": "code",
   "execution_count": null,
   "metadata": {},
   "outputs": [],
   "source": []
  }
 ],
 "metadata": {
  "kernelspec": {
   "display_name": "Python 3",
   "language": "python",
   "name": "python3"
  },
  "language_info": {
   "codemirror_mode": {
    "name": "ipython",
    "version": 3
   },
   "file_extension": ".py",
   "mimetype": "text/x-python",
   "name": "python",
   "nbconvert_exporter": "python",
   "pygments_lexer": "ipython3",
   "version": "3.6.6"
  }
 },
 "nbformat": 4,
 "nbformat_minor": 2
}
